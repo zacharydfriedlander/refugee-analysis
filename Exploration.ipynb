{
 "cells": [
  {
   "cell_type": "code",
   "execution_count": 64,
   "metadata": {
    "collapsed": true
   },
   "outputs": [],
   "source": [
    "import pandas\n",
    "import numpy"
   ]
  },
  {
   "cell_type": "code",
   "execution_count": 65,
   "metadata": {
    "collapsed": false
   },
   "outputs": [],
   "source": [
    "mabc = pandas.read_csv('data/monthly_arrivals_by_country_filtered.csv')"
   ]
  },
  {
   "cell_type": "code",
   "execution_count": 67,
   "metadata": {
    "collapsed": true
   },
   "outputs": [],
   "source": [
    "fsi = pandas.read_csv(\"data/fragilestatesindex_joined.csv\")"
   ]
  },
  {
   "cell_type": "code",
   "execution_count": 69,
   "metadata": {
    "collapsed": false
   },
   "outputs": [],
   "source": [
    "PSQ_TMS = pandas.read_csv(\"data/PSQ_TMS.csv\", skiprows=range(5), na_values=\"*\")"
   ]
  },
  {
   "cell_type": "code",
   "execution_count": 71,
   "metadata": {
    "collapsed": false
   },
   "outputs": [],
   "source": [
    "test = PSQ_TMS[PSQ_TMS[\"Country Name\"] == \"Afghanistan\"]"
   ]
  },
  {
   "cell_type": "code",
   "execution_count": 72,
   "metadata": {
    "collapsed": false
   },
   "outputs": [
    {
     "name": "stderr",
     "output_type": "stream",
     "text": [
      "-c:2: SettingWithCopyWarning: \n",
      "A value is trying to be set on a copy of a slice from a DataFrame\n",
      "\n",
      "See the caveats in the documentation: http://pandas.pydata.org/pandas-docs/stable/indexing.html#indexing-view-versus-copy\n"
     ]
    }
   ],
   "source": [
    "test.drop([\"Origin / Returned from\", \"Population type\"], axis=1,\n",
    "    inplace=True)"
   ]
  },
  {
   "cell_type": "code",
   "execution_count": 74,
   "metadata": {
    "collapsed": false
   },
   "outputs": [],
   "source": [
    "import numpy"
   ]
  },
  {
   "cell_type": "code",
   "execution_count": 75,
   "metadata": {
    "collapsed": false
   },
   "outputs": [],
   "source": [
    "sums = test.iloc[:,1:].sum()"
   ]
  },
  {
   "cell_type": "code",
   "execution_count": 76,
   "metadata": {
    "collapsed": false
   },
   "outputs": [],
   "source": [
    "values = pandas.Series([\"Afghanistan\"], [\"Country Name\"]).append(sums)"
   ]
  },
  {
   "cell_type": "code",
   "execution_count": 77,
   "metadata": {
    "collapsed": false
   },
   "outputs": [],
   "source": [
    "test_df = pandas.DataFrame(values)"
   ]
  },
  {
   "cell_type": "code",
   "execution_count": 78,
   "metadata": {
    "collapsed": false
   },
   "outputs": [
    {
     "data": {
      "text/html": [
       "<div>\n",
       "<table border=\"1\" class=\"dataframe\">\n",
       "  <thead>\n",
       "    <tr style=\"text-align: right;\">\n",
       "      <th></th>\n",
       "      <th>Country Name</th>\n",
       "      <th>2000</th>\n",
       "      <th>2001</th>\n",
       "      <th>2002</th>\n",
       "      <th>2003</th>\n",
       "      <th>2004</th>\n",
       "      <th>2005</th>\n",
       "      <th>2006</th>\n",
       "      <th>2007</th>\n",
       "      <th>2008</th>\n",
       "      <th>2009</th>\n",
       "      <th>2010</th>\n",
       "      <th>2011</th>\n",
       "      <th>2012</th>\n",
       "      <th>2013</th>\n",
       "    </tr>\n",
       "  </thead>\n",
       "  <tbody>\n",
       "    <tr>\n",
       "      <th>0</th>\n",
       "      <td>Afghanistan</td>\n",
       "      <td>1.05111e+06</td>\n",
       "      <td>1.2261e+06</td>\n",
       "      <td>3.37648e+06</td>\n",
       "      <td>912292</td>\n",
       "      <td>1.06678e+06</td>\n",
       "      <td>911679</td>\n",
       "      <td>527710</td>\n",
       "      <td>535632</td>\n",
       "      <td>515659</td>\n",
       "      <td>361985</td>\n",
       "      <td>1.31802e+06</td>\n",
       "      <td>1.54837e+06</td>\n",
       "      <td>1.49935e+06</td>\n",
       "      <td>985191</td>\n",
       "    </tr>\n",
       "  </tbody>\n",
       "</table>\n",
       "</div>"
      ],
      "text/plain": [
       "  Country Name         2000        2001         2002    2003         2004  \\\n",
       "0  Afghanistan  1.05111e+06  1.2261e+06  3.37648e+06  912292  1.06678e+06   \n",
       "\n",
       "     2005    2006    2007    2008    2009         2010         2011  \\\n",
       "0  911679  527710  535632  515659  361985  1.31802e+06  1.54837e+06   \n",
       "\n",
       "          2012    2013  \n",
       "0  1.49935e+06  985191  "
      ]
     },
     "execution_count": 78,
     "metadata": {},
     "output_type": "execute_result"
    }
   ],
   "source": [
    "test_df.transpose()"
   ]
  },
  {
   "cell_type": "code",
   "execution_count": 79,
   "metadata": {
    "collapsed": false
   },
   "outputs": [],
   "source": [
    "psq_tms_clean = pandas.read_csv(\"data/PSQ_TMS_filtered.csv\")"
   ]
  },
  {
   "cell_type": "code",
   "execution_count": 81,
   "metadata": {
    "collapsed": false
   },
   "outputs": [],
   "source": [
    "gdp_info_raw = pandas.read_csv(\"data/world_bank_gdp/GDP_2011-2015.csv\",skiprows=4)"
   ]
  },
  {
   "cell_type": "code",
   "execution_count": 83,
   "metadata": {
    "collapsed": false
   },
   "outputs": [],
   "source": [
    "gdp_clean = pandas.read_csv(\"data/world_bank_gdp/GDP_filtered.csv\")"
   ]
  },
  {
   "cell_type": "code",
   "execution_count": 85,
   "metadata": {
    "collapsed": false
   },
   "outputs": [],
   "source": [
    "pov_raw = pandas.read_csv(\"data/world_bank_poverty/Poverty_raw.csv\", skiprows=4)"
   ]
  },
  {
   "cell_type": "code",
   "execution_count": 87,
   "metadata": {
    "collapsed": true
   },
   "outputs": [],
   "source": [
    "pov_clean = pandas.read_csv(\"data/world_bank_poverty/Poverty_filtered.csv\")"
   ]
  },
  {
   "cell_type": "code",
   "execution_count": 89,
   "metadata": {
    "collapsed": false
   },
   "outputs": [],
   "source": [
    "joined_data = pandas.merge(psq_tms_clean[[\"2013\", \"Country Name\"]], fsi, on=\"Country Name\")"
   ]
  },
  {
   "cell_type": "code",
   "execution_count": 90,
   "metadata": {
    "collapsed": true
   },
   "outputs": [],
   "source": [
    "finance_data = pandas.read_csv(\"data/financial_data.csv\")"
   ]
  },
  {
   "cell_type": "code",
   "execution_count": 91,
   "metadata": {
    "collapsed": false
   },
   "outputs": [],
   "source": [
    "commodity_data = pandas.read_csv(\"data/commodities_filtered.csv\")"
   ]
  },
  {
   "cell_type": "code",
   "execution_count": 93,
   "metadata": {
    "collapsed": false
   },
   "outputs": [],
   "source": [
    "finance_data_filtered = finance_data[[\"Country\", \"WEO Subject Code\"] +[str(x) for x in range(2000, 2014)]]"
   ]
  },
  {
   "cell_type": "code",
   "execution_count": 94,
   "metadata": {
    "collapsed": false
   },
   "outputs": [
    {
     "name": "stderr",
     "output_type": "stream",
     "text": [
      "-c:1: SettingWithCopyWarning: \n",
      "A value is trying to be set on a copy of a slice from a DataFrame\n",
      "\n",
      "See the caveats in the documentation: http://pandas.pydata.org/pandas-docs/stable/indexing.html#indexing-view-versus-copy\n"
     ]
    }
   ],
   "source": [
    "finance_data_filtered.replace(\"n/a\", numpy.nan, inplace=True)"
   ]
  },
  {
   "cell_type": "code",
   "execution_count": 96,
   "metadata": {
    "collapsed": false
   },
   "outputs": [],
   "source": [
    "finance_data_filtered = finance_data_filtered[finance_data[\"WEO Subject Code\"] == \"NGDPD\"]"
   ]
  },
  {
   "cell_type": "code",
   "execution_count": 97,
   "metadata": {
    "collapsed": false
   },
   "outputs": [],
   "source": [
    "finance_data_filtered.drop(\"WEO Subject Code\", axis=1, inplace=True)"
   ]
  },
  {
   "cell_type": "code",
   "execution_count": 98,
   "metadata": {
    "collapsed": false
   },
   "outputs": [],
   "source": [
    "finance_data_filtered.rename(columns={str(col): \"GDP (Billions of USD), \" + str(col) for col in range(2000, 2014)}, inplace=True)"
   ]
  },
  {
   "cell_type": "code",
   "execution_count": 99,
   "metadata": {
    "collapsed": false
   },
   "outputs": [],
   "source": [
    "finance_data_filtered.rename(columns={\"Country\": \"Country Name\"}, inplace=True)"
   ]
  },
  {
   "cell_type": "code",
   "execution_count": 100,
   "metadata": {
    "collapsed": true
   },
   "outputs": [],
   "source": [
    "joined_data = pandas.merge(joined_data, finance_data_filtered, on=\"Country Name\")"
   ]
  },
  {
   "cell_type": "code",
   "execution_count": 101,
   "metadata": {
    "collapsed": false
   },
   "outputs": [],
   "source": [
    "joined_data.rename(columns={\"2013\" : \"Total Refugee Count, 2013\"}, inplace=True)"
   ]
  },
  {
   "cell_type": "code",
   "execution_count": 103,
   "metadata": {
    "collapsed": false
   },
   "outputs": [],
   "source": [
    "joined_data = joined_data.applymap(lambda x: str(x).replace(\",\",\"\"))"
   ]
  },
  {
   "cell_type": "code",
   "execution_count": 243,
   "metadata": {
    "collapsed": false
   },
   "outputs": [],
   "source": [
    "np_joined = joined_data.drop([\"Country Name\"], axis=1).as_matrix().astype(\"float64\")\n",
    "np_joined = np_joined[~numpy.isnan(np_joined).any(axis=1)]"
   ]
  },
  {
   "cell_type": "code",
   "execution_count": 200,
   "metadata": {
    "collapsed": false
   },
   "outputs": [],
   "source": [
    "from sklearn.cross_validation import train_test_split\n",
    "from sklearn.svm import LinearSVR\n",
    "\n",
    "from sklearn import metrics"
   ]
  },
  {
   "cell_type": "code",
   "execution_count": 235,
   "metadata": {
    "collapsed": false
   },
   "outputs": [],
   "source": [
    "target = np_joined[:,0]\n",
    "features = np_joined[:,1:]\n",
    "\n",
    "ftrain, ftest, ttrain, ttest = train_test_split(features, target, test_size=0.2, random_state=41234)"
   ]
  },
  {
   "cell_type": "code",
   "execution_count": 232,
   "metadata": {
    "collapsed": true
   },
   "outputs": [],
   "source": [
    "linear_svr = LinearSVR(loss='epsilon_insensitive', epsilon=0)"
   ]
  },
  {
   "cell_type": "code",
   "execution_count": 233,
   "metadata": {
    "collapsed": false
   },
   "outputs": [
    {
     "name": "stdout",
     "output_type": "stream",
     "text": [
      "261469.617566\n",
      "-0.048745791616\n"
     ]
    }
   ],
   "source": [
    "linear_svr.fit(ftrain, ttrain)\n",
    "preds_svr = linear_svr.predict(ftest)\n",
    "print numpy.sqrt(metrics.mean_squared_error(ttest, preds_svr))\n",
    "print metrics.r2_score(ttest, preds_svr)"
   ]
  }
 ],
 "metadata": {
  "kernelspec": {
   "display_name": "Python 2",
   "language": "python2",
   "name": "python2"
  },
  "language_info": {
   "codemirror_mode": {
    "name": "ipython",
    "version": 2
   },
   "file_extension": ".py",
   "mimetype": "text/x-python",
   "name": "python",
   "nbconvert_exporter": "python",
   "pygments_lexer": "ipython2",
   "version": "2.7.11"
  }
 },
 "nbformat": 4,
 "nbformat_minor": 0
}
