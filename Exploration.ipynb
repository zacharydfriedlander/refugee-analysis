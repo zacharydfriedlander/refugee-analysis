{
 "cells": [
  {
   "cell_type": "code",
   "execution_count": 3,
   "metadata": {
    "collapsed": true
   },
   "outputs": [],
   "source": [
    "import pandas\n",
    "import numpy"
   ]
  },
  {
   "cell_type": "code",
   "execution_count": 4,
   "metadata": {
    "collapsed": false
   },
   "outputs": [],
   "source": [
    "mabc = pandas.read_csv('data/monthly_arrivals_by_country_filtered.csv')"
   ]
  },
  {
   "cell_type": "code",
   "execution_count": 5,
   "metadata": {
    "collapsed": true
   },
   "outputs": [],
   "source": [
    "fsi = pandas.read_csv(\"data/fragilestatesindex_joined.csv\")"
   ]
  },
  {
   "cell_type": "code",
   "execution_count": 6,
   "metadata": {
    "collapsed": false
   },
   "outputs": [],
   "source": [
    "PSQ_TMS = pandas.read_csv(\"data/PSQ_TMS.csv\", skiprows=range(5), na_values=\"*\")"
   ]
  },
  {
   "cell_type": "code",
   "execution_count": 7,
   "metadata": {
    "collapsed": false
   },
   "outputs": [],
   "source": [
    "test = PSQ_TMS[PSQ_TMS[\"Country Name\"] == \"Afghanistan\"]"
   ]
  },
  {
   "cell_type": "code",
   "execution_count": 8,
   "metadata": {
    "collapsed": false
   },
   "outputs": [
    {
     "name": "stderr",
     "output_type": "stream",
     "text": [
      "-c:2: SettingWithCopyWarning: \n",
      "A value is trying to be set on a copy of a slice from a DataFrame\n",
      "\n",
      "See the caveats in the documentation: http://pandas.pydata.org/pandas-docs/stable/indexing.html#indexing-view-versus-copy\n"
     ]
    }
   ],
   "source": [
    "test.drop([\"Origin / Returned from\", \"Population type\"], axis=1,\n",
    "    inplace=True)"
   ]
  },
  {
   "cell_type": "code",
   "execution_count": 9,
   "metadata": {
    "collapsed": false
   },
   "outputs": [],
   "source": [
    "sums = test.iloc[:,1:].sum()"
   ]
  },
  {
   "cell_type": "code",
   "execution_count": 10,
   "metadata": {
    "collapsed": false
   },
   "outputs": [],
   "source": [
    "values = pandas.Series([\"Afghanistan\"], [\"Country Name\"]).append(sums)"
   ]
  },
  {
   "cell_type": "code",
   "execution_count": 11,
   "metadata": {
    "collapsed": false
   },
   "outputs": [],
   "source": [
    "test_df = pandas.DataFrame(values)"
   ]
  },
  {
   "cell_type": "code",
   "execution_count": 12,
   "metadata": {
    "collapsed": false
   },
   "outputs": [
    {
     "data": {
      "text/html": [
       "<div>\n",
       "<table border=\"1\" class=\"dataframe\">\n",
       "  <thead>\n",
       "    <tr style=\"text-align: right;\">\n",
       "      <th></th>\n",
       "      <th>Country Name</th>\n",
       "      <th>2000</th>\n",
       "      <th>2001</th>\n",
       "      <th>2002</th>\n",
       "      <th>2003</th>\n",
       "      <th>2004</th>\n",
       "      <th>2005</th>\n",
       "      <th>2006</th>\n",
       "      <th>2007</th>\n",
       "      <th>2008</th>\n",
       "      <th>2009</th>\n",
       "      <th>2010</th>\n",
       "      <th>2011</th>\n",
       "      <th>2012</th>\n",
       "      <th>2013</th>\n",
       "    </tr>\n",
       "  </thead>\n",
       "  <tbody>\n",
       "    <tr>\n",
       "      <th>0</th>\n",
       "      <td>Afghanistan</td>\n",
       "      <td>1.05111e+06</td>\n",
       "      <td>1.2261e+06</td>\n",
       "      <td>3.37648e+06</td>\n",
       "      <td>912292</td>\n",
       "      <td>1.06678e+06</td>\n",
       "      <td>911679</td>\n",
       "      <td>527710</td>\n",
       "      <td>535632</td>\n",
       "      <td>515659</td>\n",
       "      <td>361985</td>\n",
       "      <td>1.31802e+06</td>\n",
       "      <td>1.54837e+06</td>\n",
       "      <td>1.49935e+06</td>\n",
       "      <td>985191</td>\n",
       "    </tr>\n",
       "  </tbody>\n",
       "</table>\n",
       "</div>"
      ],
      "text/plain": [
       "  Country Name         2000        2001         2002    2003         2004  \\\n",
       "0  Afghanistan  1.05111e+06  1.2261e+06  3.37648e+06  912292  1.06678e+06   \n",
       "\n",
       "     2005    2006    2007    2008    2009         2010         2011  \\\n",
       "0  911679  527710  535632  515659  361985  1.31802e+06  1.54837e+06   \n",
       "\n",
       "          2012    2013  \n",
       "0  1.49935e+06  985191  "
      ]
     },
     "execution_count": 12,
     "metadata": {},
     "output_type": "execute_result"
    }
   ],
   "source": [
    "test_df.transpose()"
   ]
  },
  {
   "cell_type": "code",
   "execution_count": 13,
   "metadata": {
    "collapsed": false
   },
   "outputs": [],
   "source": [
    "psq_tms_clean = pandas.read_csv(\"data/PSQ_TMS_filtered.csv\")"
   ]
  },
  {
   "cell_type": "code",
   "execution_count": 14,
   "metadata": {
    "collapsed": false
   },
   "outputs": [],
   "source": [
    "gdp_info_raw = pandas.read_csv(\"data/world_bank_gdp/GDP_2011-2015.csv\",skiprows=4)"
   ]
  },
  {
   "cell_type": "code",
   "execution_count": 15,
   "metadata": {
    "collapsed": false
   },
   "outputs": [],
   "source": [
    "gdp_clean = pandas.read_csv(\"data/world_bank_gdp/GDP_filtered.csv\")"
   ]
  },
  {
   "cell_type": "code",
   "execution_count": 16,
   "metadata": {
    "collapsed": false
   },
   "outputs": [],
   "source": [
    "pov_raw = pandas.read_csv(\"data/world_bank_poverty/Poverty_raw.csv\", skiprows=4)"
   ]
  },
  {
   "cell_type": "code",
   "execution_count": 17,
   "metadata": {
    "collapsed": true
   },
   "outputs": [],
   "source": [
    "pov_clean = pandas.read_csv(\"data/world_bank_poverty/Poverty_filtered.csv\")"
   ]
  },
  {
   "cell_type": "code",
   "execution_count": 18,
   "metadata": {
    "collapsed": false
   },
   "outputs": [],
   "source": [
    "joined_data = pandas.merge(psq_tms_clean[[\"2013\", \"Country Name\"]], fsi, on=\"Country Name\")"
   ]
  },
  {
   "cell_type": "code",
   "execution_count": 19,
   "metadata": {
    "collapsed": true
   },
   "outputs": [],
   "source": [
    "finance_data = pandas.read_csv(\"data/financial_data.csv\")"
   ]
  },
  {
   "cell_type": "code",
   "execution_count": 20,
   "metadata": {
    "collapsed": false
   },
   "outputs": [],
   "source": [
    "commodity_data = pandas.read_csv(\"data/commodities_filtered.csv\")"
   ]
  },
  {
   "cell_type": "code",
   "execution_count": 21,
   "metadata": {
    "collapsed": false
   },
   "outputs": [],
   "source": [
    "finance_data_filtered = finance_data[[\"Country\", \"WEO Subject Code\"] +[str(x) for x in range(2000, 2014)]]"
   ]
  },
  {
   "cell_type": "code",
   "execution_count": 22,
   "metadata": {
    "collapsed": false
   },
   "outputs": [
    {
     "name": "stderr",
     "output_type": "stream",
     "text": [
      "-c:1: SettingWithCopyWarning: \n",
      "A value is trying to be set on a copy of a slice from a DataFrame\n",
      "\n",
      "See the caveats in the documentation: http://pandas.pydata.org/pandas-docs/stable/indexing.html#indexing-view-versus-copy\n"
     ]
    }
   ],
   "source": [
    "finance_data_filtered.replace(\"n/a\", numpy.nan, inplace=True)"
   ]
  },
  {
   "cell_type": "code",
   "execution_count": 23,
   "metadata": {
    "collapsed": false
   },
   "outputs": [],
   "source": [
    "finance_data_filtered = finance_data_filtered[finance_data[\"WEO Subject Code\"] == \"NGDPD\"]"
   ]
  },
  {
   "cell_type": "code",
   "execution_count": 24,
   "metadata": {
    "collapsed": false
   },
   "outputs": [],
   "source": [
    "finance_data_filtered.drop(\"WEO Subject Code\", axis=1, inplace=True)"
   ]
  },
  {
   "cell_type": "code",
   "execution_count": 25,
   "metadata": {
    "collapsed": false
   },
   "outputs": [],
   "source": [
    "finance_data_filtered.rename(columns={str(col): \"GDP (Billions of USD), \" + str(col) for col in range(2000, 2014)}, inplace=True)"
   ]
  },
  {
   "cell_type": "code",
   "execution_count": 26,
   "metadata": {
    "collapsed": false
   },
   "outputs": [],
   "source": [
    "finance_data_filtered.rename(columns={\"Country\": \"Country Name\"}, inplace=True)"
   ]
  },
  {
   "cell_type": "code",
   "execution_count": 27,
   "metadata": {
    "collapsed": true
   },
   "outputs": [],
   "source": [
    "joined_data = pandas.merge(joined_data, finance_data_filtered, on=\"Country Name\")"
   ]
  },
  {
   "cell_type": "code",
   "execution_count": 28,
   "metadata": {
    "collapsed": false
   },
   "outputs": [],
   "source": [
    "joined_data.rename(columns={\"2013\" : \"Total Refugee Count, 2013\"}, inplace=True)"
   ]
  },
  {
   "cell_type": "code",
   "execution_count": 29,
   "metadata": {
    "collapsed": false
   },
   "outputs": [],
   "source": [
    "joined_data = joined_data.applymap(lambda x: str(x).replace(\",\",\"\"))"
   ]
  },
  {
   "cell_type": "code",
   "execution_count": 30,
   "metadata": {
    "collapsed": false
   },
   "outputs": [],
   "source": [
    "np_joined = joined_data.drop([\"Country Name\"], axis=1).as_matrix().astype(\"float64\")\n",
    "np_joined = np_joined[~numpy.isnan(np_joined).any(axis=1)]"
   ]
  },
  {
   "cell_type": "code",
   "execution_count": 31,
   "metadata": {
    "collapsed": false
   },
   "outputs": [],
   "source": [
    "from sklearn.cross_validation import train_test_split\n",
    "from sklearn.svm import LinearSVR\n",
    "\n",
    "from sklearn import metrics"
   ]
  },
  {
   "cell_type": "code",
   "execution_count": 32,
   "metadata": {
    "collapsed": false
   },
   "outputs": [
    {
     "ename": "NameError",
     "evalue": "name 'normalize' is not defined",
     "output_type": "error",
     "traceback": [
      "\u001b[1;31m---------------------------------------------------------------------------\u001b[0m",
      "\u001b[1;31mNameError\u001b[0m                                 Traceback (most recent call last)",
      "\u001b[1;32m<ipython-input-32-72f95214843b>\u001b[0m in \u001b[0;36m<module>\u001b[1;34m()\u001b[0m\n\u001b[0;32m      1\u001b[0m \u001b[0mtarget\u001b[0m \u001b[1;33m=\u001b[0m \u001b[0mnp_joined\u001b[0m\u001b[1;33m[\u001b[0m\u001b[1;33m:\u001b[0m\u001b[1;33m,\u001b[0m\u001b[1;36m0\u001b[0m\u001b[1;33m]\u001b[0m\u001b[1;33m\u001b[0m\u001b[0m\n\u001b[0;32m      2\u001b[0m \u001b[0mfeatures\u001b[0m \u001b[1;33m=\u001b[0m \u001b[0mnp_joined\u001b[0m\u001b[1;33m[\u001b[0m\u001b[1;33m:\u001b[0m\u001b[1;33m,\u001b[0m\u001b[1;36m1\u001b[0m\u001b[1;33m:\u001b[0m\u001b[1;33m]\u001b[0m\u001b[1;33m\u001b[0m\u001b[0m\n\u001b[1;32m----> 3\u001b[1;33m \u001b[0mfeatures_normed\u001b[0m \u001b[1;33m=\u001b[0m \u001b[0mnormalize\u001b[0m\u001b[1;33m(\u001b[0m\u001b[0mfeatures\u001b[0m\u001b[1;33m,\u001b[0m \u001b[0maxis\u001b[0m\u001b[1;33m=\u001b[0m\u001b[1;36m0\u001b[0m\u001b[1;33m)\u001b[0m\u001b[1;33m\u001b[0m\u001b[0m\n\u001b[0m\u001b[0;32m      4\u001b[0m \u001b[1;33m\u001b[0m\u001b[0m\n\u001b[0;32m      5\u001b[0m \u001b[0mftrain\u001b[0m\u001b[1;33m,\u001b[0m \u001b[0mftest\u001b[0m\u001b[1;33m,\u001b[0m \u001b[0mttrain\u001b[0m\u001b[1;33m,\u001b[0m \u001b[0mttest\u001b[0m \u001b[1;33m=\u001b[0m \u001b[0mtrain_test_split\u001b[0m\u001b[1;33m(\u001b[0m\u001b[0mfeatures\u001b[0m\u001b[1;33m,\u001b[0m \u001b[0mtarget\u001b[0m\u001b[1;33m,\u001b[0m \u001b[0mtest_size\u001b[0m\u001b[1;33m=\u001b[0m\u001b[1;36m0.2\u001b[0m\u001b[1;33m,\u001b[0m \u001b[0mrandom_state\u001b[0m\u001b[1;33m=\u001b[0m\u001b[1;36m41234\u001b[0m\u001b[1;33m)\u001b[0m\u001b[1;33m\u001b[0m\u001b[0m\n",
      "\u001b[1;31mNameError\u001b[0m: name 'normalize' is not defined"
     ]
    }
   ],
   "source": [
    "target = np_joined[:,0]\n",
    "features = np_joined[:,1:]\n",
    "\n",
    "ftrain, ftest, ttrain, ttest = train_test_split(features, target, test_size=0.2, random_state=41234)"
   ]
  },
  {
   "cell_type": "code",
   "execution_count": 33,
   "metadata": {
    "collapsed": true
   },
   "outputs": [],
   "source": [
    "linear_svr = LinearSVR(loss='epsilon_insensitive', epsilon=0)"
   ]
  },
  {
   "cell_type": "code",
   "execution_count": 4,
   "metadata": {
    "collapsed": false
   },
   "outputs": [
    {
     "ename": "NameError",
     "evalue": "name 'linear_svr' is not defined",
     "output_type": "error",
     "traceback": [
      "\u001b[1;31m---------------------------------------------------------------------------\u001b[0m",
      "\u001b[1;31mNameError\u001b[0m                                 Traceback (most recent call last)",
      "\u001b[1;32m<ipython-input-4-e7ce27a43fcf>\u001b[0m in \u001b[0;36m<module>\u001b[1;34m()\u001b[0m\n\u001b[1;32m----> 1\u001b[1;33m \u001b[0mlinear_svr\u001b[0m\u001b[1;33m.\u001b[0m\u001b[0mfit\u001b[0m\u001b[1;33m(\u001b[0m\u001b[0mftrain\u001b[0m\u001b[1;33m,\u001b[0m \u001b[0mttrain\u001b[0m\u001b[1;33m)\u001b[0m\u001b[1;33m\u001b[0m\u001b[0m\n\u001b[0m\u001b[0;32m      2\u001b[0m \u001b[0mpreds_svr\u001b[0m \u001b[1;33m=\u001b[0m \u001b[0mlinear_svr\u001b[0m\u001b[1;33m.\u001b[0m\u001b[0mpredict\u001b[0m\u001b[1;33m(\u001b[0m\u001b[0mftest\u001b[0m\u001b[1;33m)\u001b[0m\u001b[1;33m\u001b[0m\u001b[0m\n\u001b[0;32m      3\u001b[0m \u001b[1;32mprint\u001b[0m \u001b[0mnumpy\u001b[0m\u001b[1;33m.\u001b[0m\u001b[0msqrt\u001b[0m\u001b[1;33m(\u001b[0m\u001b[0mmetrics\u001b[0m\u001b[1;33m.\u001b[0m\u001b[0mmean_squared_error\u001b[0m\u001b[1;33m(\u001b[0m\u001b[0mttest\u001b[0m\u001b[1;33m,\u001b[0m \u001b[0mpreds_svr\u001b[0m\u001b[1;33m)\u001b[0m\u001b[1;33m)\u001b[0m\u001b[1;33m\u001b[0m\u001b[0m\n\u001b[0;32m      4\u001b[0m \u001b[1;32mprint\u001b[0m \u001b[0mmetrics\u001b[0m\u001b[1;33m.\u001b[0m\u001b[0mr2_score\u001b[0m\u001b[1;33m(\u001b[0m\u001b[0mttest\u001b[0m\u001b[1;33m,\u001b[0m \u001b[0mpreds_svr\u001b[0m\u001b[1;33m)\u001b[0m\u001b[1;33m\u001b[0m\u001b[0m\n",
      "\u001b[1;31mNameError\u001b[0m: name 'linear_svr' is not defined"
     ]
    }
   ],
   "source": [
    "linear_svr.fit(ftrain, ttrain)\n",
    "preds_svr = linear_svr.predict(ftest)\n",
    "print numpy.sqrt(metrics.mean_squared_error(ttest, preds_svr))\n",
    "print metrics.r2_score(ttest, preds_svr)"
   ]
  },
  {
   "cell_type": "code",
   "execution_count": 5,
   "metadata": {
    "collapsed": false
   },
   "outputs": [
    {
     "data": {
      "text/html": [
       "<div>\n",
       "<table border=\"1\" class=\"dataframe\">\n",
       "  <thead>\n",
       "    <tr style=\"text-align: right;\">\n",
       "      <th></th>\n",
       "      <th>Series Code</th>\n",
       "      <th>Topic</th>\n",
       "      <th>Indicator Name</th>\n",
       "      <th>Long definition</th>\n",
       "      <th>Periodicity</th>\n",
       "      <th>Aggregation method</th>\n",
       "      <th>Limitations and exceptions</th>\n",
       "      <th>Source</th>\n",
       "      <th>Statistical concept and methodology</th>\n",
       "      <th>Development relevance</th>\n",
       "    </tr>\n",
       "  </thead>\n",
       "  <tbody>\n",
       "    <tr>\n",
       "      <th>0</th>\n",
       "      <td>IQ.CPA.HRES.XQ</td>\n",
       "      <td>Public Sector: Policy &amp; institutions</td>\n",
       "      <td>CPIA building human resources rating (1=low to...</td>\n",
       "      <td>Building human resources assesses the national...</td>\n",
       "      <td>Annual</td>\n",
       "      <td>Unweighted average</td>\n",
       "      <td>The CPIA exercise is intended to capture the q...</td>\n",
       "      <td>World Bank Group, CPIA database (http://www.wo...</td>\n",
       "      <td>All criteria within each cluster receive equal...</td>\n",
       "      <td>The International Development Association (IDA...</td>\n",
       "    </tr>\n",
       "    <tr>\n",
       "      <th>1</th>\n",
       "      <td>IQ.CPA.BREG.XQ</td>\n",
       "      <td>Public Sector: Policy &amp; institutions</td>\n",
       "      <td>CPIA business regulatory environment rating (1...</td>\n",
       "      <td>Business regulatory environment assesses the e...</td>\n",
       "      <td>Annual</td>\n",
       "      <td>Unweighted average</td>\n",
       "      <td>The CPIA exercise is intended to capture the q...</td>\n",
       "      <td>World Bank Group, CPIA database (http://www.wo...</td>\n",
       "      <td>All criteria within each cluster receive equal...</td>\n",
       "      <td>The International Development Association (IDA...</td>\n",
       "    </tr>\n",
       "    <tr>\n",
       "      <th>2</th>\n",
       "      <td>IQ.CPA.DEBT.XQ</td>\n",
       "      <td>Public Sector: Policy &amp; institutions</td>\n",
       "      <td>CPIA debt policy rating (1=low to 6=high)</td>\n",
       "      <td>Debt policy assesses whether the debt manageme...</td>\n",
       "      <td>Annual</td>\n",
       "      <td>Unweighted average</td>\n",
       "      <td>The CPIA exercise is intended to capture the q...</td>\n",
       "      <td>World Bank Group, CPIA database (http://www.wo...</td>\n",
       "      <td>All criteria within each cluster receive equal...</td>\n",
       "      <td>The International Development Association (IDA...</td>\n",
       "    </tr>\n",
       "    <tr>\n",
       "      <th>3</th>\n",
       "      <td>IQ.CPA.ECON.XQ</td>\n",
       "      <td>Public Sector: Policy &amp; institutions</td>\n",
       "      <td>CPIA economic management cluster average (1=lo...</td>\n",
       "      <td>The economic management cluster includes macro...</td>\n",
       "      <td>Annual</td>\n",
       "      <td>Unweighted average</td>\n",
       "      <td>The CPIA exercise is intended to capture the q...</td>\n",
       "      <td>World Bank Group, CPIA database (http://www.wo...</td>\n",
       "      <td>All criteria within each cluster receive equal...</td>\n",
       "      <td>The International Development Association (IDA...</td>\n",
       "    </tr>\n",
       "    <tr>\n",
       "      <th>4</th>\n",
       "      <td>IQ.CPA.REVN.XQ</td>\n",
       "      <td>Public Sector: Policy &amp; institutions</td>\n",
       "      <td>CPIA efficiency of revenue mobilization rating...</td>\n",
       "      <td>Efficiency of revenue mobilization assesses th...</td>\n",
       "      <td>Annual</td>\n",
       "      <td>Unweighted average</td>\n",
       "      <td>The CPIA exercise is intended to capture the q...</td>\n",
       "      <td>World Bank Group, CPIA database (http://www.wo...</td>\n",
       "      <td>All criteria within each cluster receive equal...</td>\n",
       "      <td>The International Development Association (IDA...</td>\n",
       "    </tr>\n",
       "  </tbody>\n",
       "</table>\n",
       "</div>"
      ],
      "text/plain": [
       "      Series Code                                 Topic  \\\n",
       "0  IQ.CPA.HRES.XQ  Public Sector: Policy & institutions   \n",
       "1  IQ.CPA.BREG.XQ  Public Sector: Policy & institutions   \n",
       "2  IQ.CPA.DEBT.XQ  Public Sector: Policy & institutions   \n",
       "3  IQ.CPA.ECON.XQ  Public Sector: Policy & institutions   \n",
       "4  IQ.CPA.REVN.XQ  Public Sector: Policy & institutions   \n",
       "\n",
       "                                      Indicator Name  \\\n",
       "0  CPIA building human resources rating (1=low to...   \n",
       "1  CPIA business regulatory environment rating (1...   \n",
       "2          CPIA debt policy rating (1=low to 6=high)   \n",
       "3  CPIA economic management cluster average (1=lo...   \n",
       "4  CPIA efficiency of revenue mobilization rating...   \n",
       "\n",
       "                                     Long definition Periodicity  \\\n",
       "0  Building human resources assesses the national...      Annual   \n",
       "1  Business regulatory environment assesses the e...      Annual   \n",
       "2  Debt policy assesses whether the debt manageme...      Annual   \n",
       "3  The economic management cluster includes macro...      Annual   \n",
       "4  Efficiency of revenue mobilization assesses th...      Annual   \n",
       "\n",
       "   Aggregation method                         Limitations and exceptions  \\\n",
       "0  Unweighted average  The CPIA exercise is intended to capture the q...   \n",
       "1  Unweighted average  The CPIA exercise is intended to capture the q...   \n",
       "2  Unweighted average  The CPIA exercise is intended to capture the q...   \n",
       "3  Unweighted average  The CPIA exercise is intended to capture the q...   \n",
       "4  Unweighted average  The CPIA exercise is intended to capture the q...   \n",
       "\n",
       "                                              Source  \\\n",
       "0  World Bank Group, CPIA database (http://www.wo...   \n",
       "1  World Bank Group, CPIA database (http://www.wo...   \n",
       "2  World Bank Group, CPIA database (http://www.wo...   \n",
       "3  World Bank Group, CPIA database (http://www.wo...   \n",
       "4  World Bank Group, CPIA database (http://www.wo...   \n",
       "\n",
       "                 Statistical concept and methodology  \\\n",
       "0  All criteria within each cluster receive equal...   \n",
       "1  All criteria within each cluster receive equal...   \n",
       "2  All criteria within each cluster receive equal...   \n",
       "3  All criteria within each cluster receive equal...   \n",
       "4  All criteria within each cluster receive equal...   \n",
       "\n",
       "                               Development relevance  \n",
       "0  The International Development Association (IDA...  \n",
       "1  The International Development Association (IDA...  \n",
       "2  The International Development Association (IDA...  \n",
       "3  The International Development Association (IDA...  \n",
       "4  The International Development Association (IDA...  "
      ]
     },
     "execution_count": 5,
     "metadata": {},
     "output_type": "execute_result"
    }
   ],
   "source": [
    "metadata = pandas.read_csv(\"data/cpia/CPIA-Series.csv\")\n",
    "metadata[0:5]"
   ]
  },
  {
   "cell_type": "code",
   "execution_count": 6,
   "metadata": {
    "collapsed": true
   },
   "outputs": [],
   "source": [
    "series_codes = metadata[\"Series Code\"]"
   ]
  },
  {
   "cell_type": "code",
   "execution_count": 13,
   "metadata": {
    "collapsed": false
   },
   "outputs": [
    {
     "name": "stdout",
     "output_type": "stream",
     "text": [
      "(1995, 14)\n"
     ]
    },
    {
     "data": {
      "text/plain": [
       "(150, 14)"
      ]
     },
     "execution_count": 13,
     "metadata": {},
     "output_type": "execute_result"
    }
   ],
   "source": [
    "data = pandas.read_csv(\"data/cpia/CPIA-Data.csv\")\n",
    "print data.shape\n",
    "data[numpy.isnan(data[\"2006\"])].shape"
   ]
  },
  {
   "cell_type": "code",
   "execution_count": 8,
   "metadata": {
    "collapsed": false
   },
   "outputs": [
    {
     "name": "stderr",
     "output_type": "stream",
     "text": [
      "cleanup_cpia.py:15: SettingWithCopyWarning: \n",
      "A value is trying to be set on a copy of a slice from a DataFrame\n",
      "\n",
      "See the caveats in the documentation: http://pandas.pydata.org/pandas-docs/stable/indexing.html#indexing-view-versus-copy\n",
      "  axis=1, inplace=True)\n",
      "/usr/lib/python2.7/site-packages/pandas/core/frame.py:2748: SettingWithCopyWarning: \n",
      "A value is trying to be set on a copy of a slice from a DataFrame\n",
      "\n",
      "See the caveats in the documentation: http://pandas.pydata.org/pandas-docs/stable/indexing.html#indexing-view-versus-copy\n",
      "  **kwargs)\n"
     ]
    }
   ],
   "source": [
    "import cleanup_cpia as cpia\n",
    "\n",
    "cpia.cleanup_cpia()"
   ]
  },
  {
   "cell_type": "code",
   "execution_count": 16,
   "metadata": {
    "collapsed": false
   },
   "outputs": [],
   "source": [
    "cpia_clean = pandas.read_csv(\"data/cpia/CPIA-Data_clean.csv\")"
   ]
  },
  {
   "cell_type": "code",
   "execution_count": 17,
   "metadata": {
    "collapsed": false
   },
   "outputs": [
    {
     "data": {
      "text/html": [
       "<div>\n",
       "<table border=\"1\" class=\"dataframe\">\n",
       "  <thead>\n",
       "    <tr style=\"text-align: right;\">\n",
       "      <th></th>\n",
       "      <th>Country Name</th>\n",
       "      <th>IQ.CPA.HRES.XQ, 2005</th>\n",
       "      <th>IQ.CPA.HRES.XQ, 2006</th>\n",
       "      <th>IQ.CPA.HRES.XQ, 2007</th>\n",
       "      <th>IQ.CPA.HRES.XQ, 2008</th>\n",
       "      <th>IQ.CPA.HRES.XQ, 2009</th>\n",
       "      <th>IQ.CPA.HRES.XQ, 2010</th>\n",
       "      <th>IQ.CPA.HRES.XQ, 2011</th>\n",
       "      <th>IQ.CPA.HRES.XQ, 2012</th>\n",
       "      <th>IQ.CPA.HRES.XQ, 2013</th>\n",
       "      <th>...</th>\n",
       "      <th>IQ.CPA.IRAI.XQ, 2005</th>\n",
       "      <th>IQ.CPA.IRAI.XQ, 2006</th>\n",
       "      <th>IQ.CPA.IRAI.XQ, 2007</th>\n",
       "      <th>IQ.CPA.IRAI.XQ, 2008</th>\n",
       "      <th>IQ.CPA.IRAI.XQ, 2009</th>\n",
       "      <th>IQ.CPA.IRAI.XQ, 2010</th>\n",
       "      <th>IQ.CPA.IRAI.XQ, 2011</th>\n",
       "      <th>IQ.CPA.IRAI.XQ, 2012</th>\n",
       "      <th>IQ.CPA.IRAI.XQ, 2013</th>\n",
       "      <th>IQ.CPA.IRAI.XQ, 2014</th>\n",
       "    </tr>\n",
       "  </thead>\n",
       "  <tbody>\n",
       "    <tr>\n",
       "      <th>0</th>\n",
       "      <td>Afghanistan</td>\n",
       "      <td>NaN</td>\n",
       "      <td>3.0</td>\n",
       "      <td>3.0</td>\n",
       "      <td>3.0</td>\n",
       "      <td>3.0</td>\n",
       "      <td>3.0</td>\n",
       "      <td>3.5</td>\n",
       "      <td>3.5</td>\n",
       "      <td>3.5</td>\n",
       "      <td>...</td>\n",
       "      <td>NaN</td>\n",
       "      <td>2.608333</td>\n",
       "      <td>2.5</td>\n",
       "      <td>2.6</td>\n",
       "      <td>2.75</td>\n",
       "      <td>2.625</td>\n",
       "      <td>2.675</td>\n",
       "      <td>2.675</td>\n",
       "      <td>2.65</td>\n",
       "      <td>2.65</td>\n",
       "    </tr>\n",
       "    <tr>\n",
       "      <th>1</th>\n",
       "      <td>Afghanistan</td>\n",
       "      <td>NaN</td>\n",
       "      <td>3.0</td>\n",
       "      <td>3.0</td>\n",
       "      <td>3.0</td>\n",
       "      <td>3.0</td>\n",
       "      <td>3.0</td>\n",
       "      <td>3.5</td>\n",
       "      <td>3.5</td>\n",
       "      <td>3.5</td>\n",
       "      <td>...</td>\n",
       "      <td>NaN</td>\n",
       "      <td>2.608333</td>\n",
       "      <td>2.5</td>\n",
       "      <td>2.6</td>\n",
       "      <td>2.75</td>\n",
       "      <td>2.625</td>\n",
       "      <td>2.675</td>\n",
       "      <td>2.675</td>\n",
       "      <td>2.65</td>\n",
       "      <td>2.65</td>\n",
       "    </tr>\n",
       "    <tr>\n",
       "      <th>2</th>\n",
       "      <td>Afghanistan</td>\n",
       "      <td>NaN</td>\n",
       "      <td>3.0</td>\n",
       "      <td>3.0</td>\n",
       "      <td>3.0</td>\n",
       "      <td>3.0</td>\n",
       "      <td>3.0</td>\n",
       "      <td>3.5</td>\n",
       "      <td>3.5</td>\n",
       "      <td>3.5</td>\n",
       "      <td>...</td>\n",
       "      <td>NaN</td>\n",
       "      <td>2.608333</td>\n",
       "      <td>2.5</td>\n",
       "      <td>2.6</td>\n",
       "      <td>2.75</td>\n",
       "      <td>2.625</td>\n",
       "      <td>2.675</td>\n",
       "      <td>2.675</td>\n",
       "      <td>2.65</td>\n",
       "      <td>2.65</td>\n",
       "    </tr>\n",
       "    <tr>\n",
       "      <th>3</th>\n",
       "      <td>Afghanistan</td>\n",
       "      <td>NaN</td>\n",
       "      <td>3.0</td>\n",
       "      <td>3.0</td>\n",
       "      <td>3.0</td>\n",
       "      <td>3.0</td>\n",
       "      <td>3.0</td>\n",
       "      <td>3.5</td>\n",
       "      <td>3.5</td>\n",
       "      <td>3.5</td>\n",
       "      <td>...</td>\n",
       "      <td>NaN</td>\n",
       "      <td>2.608333</td>\n",
       "      <td>2.5</td>\n",
       "      <td>2.6</td>\n",
       "      <td>2.75</td>\n",
       "      <td>2.625</td>\n",
       "      <td>2.675</td>\n",
       "      <td>2.675</td>\n",
       "      <td>2.65</td>\n",
       "      <td>2.65</td>\n",
       "    </tr>\n",
       "    <tr>\n",
       "      <th>4</th>\n",
       "      <td>Afghanistan</td>\n",
       "      <td>NaN</td>\n",
       "      <td>3.0</td>\n",
       "      <td>3.0</td>\n",
       "      <td>3.0</td>\n",
       "      <td>3.0</td>\n",
       "      <td>3.0</td>\n",
       "      <td>3.5</td>\n",
       "      <td>3.5</td>\n",
       "      <td>3.5</td>\n",
       "      <td>...</td>\n",
       "      <td>NaN</td>\n",
       "      <td>2.608333</td>\n",
       "      <td>2.5</td>\n",
       "      <td>2.6</td>\n",
       "      <td>2.75</td>\n",
       "      <td>2.625</td>\n",
       "      <td>2.675</td>\n",
       "      <td>2.675</td>\n",
       "      <td>2.65</td>\n",
       "      <td>2.65</td>\n",
       "    </tr>\n",
       "  </tbody>\n",
       "</table>\n",
       "<p>5 rows × 211 columns</p>\n",
       "</div>"
      ],
      "text/plain": [
       "  Country Name  IQ.CPA.HRES.XQ, 2005  IQ.CPA.HRES.XQ, 2006  \\\n",
       "0  Afghanistan                   NaN                   3.0   \n",
       "1  Afghanistan                   NaN                   3.0   \n",
       "2  Afghanistan                   NaN                   3.0   \n",
       "3  Afghanistan                   NaN                   3.0   \n",
       "4  Afghanistan                   NaN                   3.0   \n",
       "\n",
       "   IQ.CPA.HRES.XQ, 2007  IQ.CPA.HRES.XQ, 2008  IQ.CPA.HRES.XQ, 2009  \\\n",
       "0                   3.0                   3.0                   3.0   \n",
       "1                   3.0                   3.0                   3.0   \n",
       "2                   3.0                   3.0                   3.0   \n",
       "3                   3.0                   3.0                   3.0   \n",
       "4                   3.0                   3.0                   3.0   \n",
       "\n",
       "   IQ.CPA.HRES.XQ, 2010  IQ.CPA.HRES.XQ, 2011  IQ.CPA.HRES.XQ, 2012  \\\n",
       "0                   3.0                   3.5                   3.5   \n",
       "1                   3.0                   3.5                   3.5   \n",
       "2                   3.0                   3.5                   3.5   \n",
       "3                   3.0                   3.5                   3.5   \n",
       "4                   3.0                   3.5                   3.5   \n",
       "\n",
       "   IQ.CPA.HRES.XQ, 2013          ...           IQ.CPA.IRAI.XQ, 2005  \\\n",
       "0                   3.5          ...                            NaN   \n",
       "1                   3.5          ...                            NaN   \n",
       "2                   3.5          ...                            NaN   \n",
       "3                   3.5          ...                            NaN   \n",
       "4                   3.5          ...                            NaN   \n",
       "\n",
       "   IQ.CPA.IRAI.XQ, 2006  IQ.CPA.IRAI.XQ, 2007  IQ.CPA.IRAI.XQ, 2008  \\\n",
       "0              2.608333                   2.5                   2.6   \n",
       "1              2.608333                   2.5                   2.6   \n",
       "2              2.608333                   2.5                   2.6   \n",
       "3              2.608333                   2.5                   2.6   \n",
       "4              2.608333                   2.5                   2.6   \n",
       "\n",
       "   IQ.CPA.IRAI.XQ, 2009  IQ.CPA.IRAI.XQ, 2010  IQ.CPA.IRAI.XQ, 2011  \\\n",
       "0                  2.75                 2.625                 2.675   \n",
       "1                  2.75                 2.625                 2.675   \n",
       "2                  2.75                 2.625                 2.675   \n",
       "3                  2.75                 2.625                 2.675   \n",
       "4                  2.75                 2.625                 2.675   \n",
       "\n",
       "   IQ.CPA.IRAI.XQ, 2012  IQ.CPA.IRAI.XQ, 2013  IQ.CPA.IRAI.XQ, 2014  \n",
       "0                 2.675                  2.65                  2.65  \n",
       "1                 2.675                  2.65                  2.65  \n",
       "2                 2.675                  2.65                  2.65  \n",
       "3                 2.675                  2.65                  2.65  \n",
       "4                 2.675                  2.65                  2.65  \n",
       "\n",
       "[5 rows x 211 columns]"
      ]
     },
     "execution_count": 17,
     "metadata": {},
     "output_type": "execute_result"
    }
   ],
   "source": [
    "cpia_clean[0:5]"
   ]
  },
  {
   "cell_type": "code",
   "execution_count": null,
   "metadata": {
    "collapsed": true
   },
   "outputs": [],
   "source": []
  }
 ],
 "metadata": {
  "kernelspec": {
   "display_name": "Python 2",
   "language": "python",
   "name": "python2"
  },
  "language_info": {
   "codemirror_mode": {
    "name": "ipython",
    "version": 2
   },
   "file_extension": ".py",
   "mimetype": "text/x-python",
   "name": "python",
   "nbconvert_exporter": "python",
   "pygments_lexer": "ipython2",
   "version": "2.7.6"
  }
 },
 "nbformat": 4,
 "nbformat_minor": 0
}
