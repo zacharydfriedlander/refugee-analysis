{
 "cells": [
  {
   "cell_type": "code",
   "execution_count": 1,
   "metadata": {
    "collapsed": true
   },
   "outputs": [],
   "source": [
    "import pandas\n",
    "import numpy"
   ]
  },
  {
   "cell_type": "code",
   "execution_count": 2,
   "metadata": {
    "collapsed": true
   },
   "outputs": [],
   "source": [
    "fsi = pandas.read_csv(\"data/fragilestatesindex_joined.csv\")\n",
    "psq_tms_clean = pandas.read_csv(\"data/PSQ_TMS_filtered.csv\")\n",
    "gdp_clean = pandas.read_csv(\"data/world_bank_gdp/GDP_filtered.csv\")\n",
    "finance_data = pandas.read_csv(\"data/financial_data.csv\")"
   ]
  },
  {
   "cell_type": "code",
   "execution_count": 3,
   "metadata": {
    "collapsed": false
   },
   "outputs": [
    {
     "name": "stderr",
     "output_type": "stream",
     "text": [
      "-c:2: SettingWithCopyWarning: \n",
      "A value is trying to be set on a copy of a slice from a DataFrame\n",
      "\n",
      "See the caveats in the documentation: http://pandas.pydata.org/pandas-docs/stable/indexing.html#indexing-view-versus-copy\n"
     ]
    }
   ],
   "source": [
    "finance_data_filtered = finance_data[[\"Country\", \"WEO Subject Code\"] +[str(x) for x in range(2000, 2014)]]\n",
    "finance_data_filtered.replace(\"n/a\", numpy.nan, inplace=True)\n",
    "finance_data_filtered = finance_data_filtered[finance_data[\"WEO Subject Code\"] == \"NGDPD\"]\n",
    "finance_data_filtered.drop(\"WEO Subject Code\", axis=1, inplace=True)\n",
    "finance_data_filtered.rename(columns={str(col): \"GDP (Billions of USD), \" + str(col) for col in range(2000, 2014)}, inplace=True)\n",
    "finance_data_filtered.rename(columns={\"Country\": \"Country Name\"}, inplace=True)"
   ]
  },
  {
   "cell_type": "code",
   "execution_count": 4,
   "metadata": {
    "collapsed": false
   },
   "outputs": [],
   "source": [
    "joined_data = pandas.merge(psq_tms_clean[[\"2013\", \"Country Name\"]], fsi, on=\"Country Name\")\n",
    "joined_data = pandas.merge(joined_data, finance_data_filtered, on=\"Country Name\")\n",
    "joined_data.rename(columns={\"2013\" : \"Total Refugee Count, 2013\"}, inplace=True)\n",
    "joined_data = joined_data.applymap(lambda x: str(x).replace(\",\",\"\"))"
   ]
  },
  {
   "cell_type": "code",
   "execution_count": 5,
   "metadata": {
    "collapsed": false
   },
   "outputs": [],
   "source": [
    "columns_of_interest = [\"Total Refugee Count, 2013\"] + [\"GDP (Billions of USD), %d\" % x for x in range(2000,2014)] + \\\n",
    "                      [\"Total %d\" % x for x in range(2006,2015)]"
   ]
  },
  {
   "cell_type": "code",
   "execution_count": 6,
   "metadata": {
    "collapsed": false
   },
   "outputs": [],
   "source": [
    "joined_data_filtered = joined_data[columns_of_interest]\n",
    "np_joined = joined_data_filtered.as_matrix().astype(\"float64\")\n",
    "np_joined = np_joined[~numpy.isnan(np_joined).any(axis=1)]\n",
    "np_joined[:,0] = np_joined[:,0] / 1000."
   ]
  },
  {
   "cell_type": "code",
   "execution_count": 7,
   "metadata": {
    "collapsed": true
   },
   "outputs": [],
   "source": [
    "from sklearn.cross_validation import train_test_split\n",
    "from sklearn.svm import LinearSVR\n",
    "from sklearn.linear_model import LogisticRegression\n",
    "from sklearn.ensemble import AdaBoostRegressor, GradientBoostingRegressor\n",
    "from sklearn import metrics\n",
    "from sklearn.preprocessing import normalize\n",
    "from sklearn import covariance"
   ]
  },
  {
   "cell_type": "code",
   "execution_count": 8,
   "metadata": {
    "collapsed": false
   },
   "outputs": [
    {
     "name": "stdout",
     "output_type": "stream",
     "text": [
      "249.773835775\n",
      "-0.27197246054\n"
     ]
    }
   ],
   "source": [
    "target = np_joined[:,0]\n",
    "features = np_joined[:,1:]\n",
    "\n",
    "features_normed = normalize(features, axis=0)\n",
    "\n",
    "ftrain, ftest, ttrain, ttest = train_test_split(features, target, test_size=0.3, random_state=41234)\n",
    "ntrain, ntest = train_test_split(features_normed, test_size=0.3, random_state = 41234)\n",
    "linear_svr = LinearSVR(loss='epsilon_insensitive', epsilon=0, random_state = 12345)\n",
    "\n",
    "linear_svr.fit(ntrain, ttrain)\n",
    "preds_normed = linear_svr.predict(ntest)\n",
    "print numpy.sqrt(metrics.mean_squared_error(ttest, preds_normed))\n",
    "print metrics.r2_score(ttest, preds_normed)"
   ]
  },
  {
   "cell_type": "code",
   "execution_count": 9,
   "metadata": {
    "collapsed": false
   },
   "outputs": [],
   "source": [
    "num_models = range(50,300,5)\n",
    "rmses_ada = []\n",
    "\n",
    "for n in num_models:\n",
    "    adaboost = AdaBoostRegressor(n_estimators = n, random_state = 12345)\n",
    "    adaboost.fit(ntrain, ttrain)\n",
    "    preds_adaboost = adaboost.predict(ntest)\n",
    "    rmses_ada.append(numpy.sqrt(metrics.mean_squared_error(ttest, preds_adaboost)))"
   ]
  },
  {
   "cell_type": "code",
   "execution_count": 10,
   "metadata": {
    "collapsed": false
   },
   "outputs": [
    {
     "data": {
      "text/plain": [
       "<matplotlib.collections.PathCollection at 0x7f42036e90d0>"
      ]
     },
     "execution_count": 10,
     "metadata": {},
     "output_type": "execute_result"
    },
    {
     "data": {
      "image/png": "[encoded data removed]",
      "text/plain": [
       "<matplotlib.figure.Figure at 0x7f42037abad0>"
      ]
     },
     "metadata": {},
     "output_type": "display_data"
    }
   ],
   "source": [
    "import matplotlib.pyplot as plt\n",
    "% matplotlib inline\n",
    "\n",
    "plt.scatter(num_models, rmses_ada)"
   ]
  },
  {
   "cell_type": "code",
   "execution_count": 18,
   "metadata": {
    "collapsed": false
   },
   "outputs": [
    {
     "name": "stdout",
     "output_type": "stream",
     "text": [
      "267.526479427\n",
      "-0.459208566552\n"
     ]
    }
   ],
   "source": [
    "adaboost = AdaBoostRegressor(n_estimators = 105, random_state = 12345)\n",
    "\n",
    "adaboost.fit(ntrain, ttrain)\n",
    "preds_ada= adaboost.predict(ntest)\n",
    "print numpy.sqrt(metrics.mean_squared_error(ttest, preds_ada))\n",
    "print metrics.r2_score(ttest, preds_ada)"
   ]
  },
  {
   "cell_type": "code",
   "execution_count": 12,
   "metadata": {
    "collapsed": false
   },
   "outputs": [],
   "source": [
    "num_models = range(100,300,5)\n",
    "rmses_gbt = []\n",
    "\n",
    "for n in num_models:\n",
    "    gbt = GradientBoostingRegressor(n_estimators = n, random_state = 12345)\n",
    "    gbt.fit(ntrain, ttrain)\n",
    "    preds_gbt = gbt.predict(ntest)\n",
    "    rmses_gbt.append(numpy.sqrt(metrics.mean_squared_error(ttest, preds_gbt)))"
   ]
  },
  {
   "cell_type": "code",
   "execution_count": 13,
   "metadata": {
    "collapsed": false
   },
   "outputs": [
    {
     "data": {
      "text/plain": [
       "<matplotlib.collections.PathCollection at 0x7f4203574390>"
      ]
     },
     "execution_count": 13,
     "metadata": {},
     "output_type": "execute_result"
    },
    {
     "data": {
      "image/png": "[encoded data removed]",
      "text/plain": [
       "<matplotlib.figure.Figure at 0x7f4203702ad0>"
      ]
     },
     "metadata": {},
     "output_type": "display_data"
    }
   ],
   "source": [
    "import matplotlib.pyplot as plt\n",
    "% matplotlib inline\n",
    "\n",
    "plt.scatter(num_models, rmses_gbt)"
   ]
  },
  {
   "cell_type": "code",
   "execution_count": 17,
   "metadata": {
    "collapsed": false
   },
   "outputs": [
    {
     "name": "stdout",
     "output_type": "stream",
     "text": [
      "249.940131816\n",
      "-0.273666748486\n"
     ]
    }
   ],
   "source": [
    "gbt = GradientBoostingRegressor(n_estimators = 160, random_state = 12345)\n",
    "gbt.fit(ntrain, ttrain)\n",
    "preds_gbt = gbt.predict(ntest)\n",
    "\n",
    "print numpy.sqrt(metrics.mean_squared_error(ttest, preds_gbt))\n",
    "print metrics.r2_score(ttest, preds_gbt)"
   ]
  },
  {
   "cell_type": "code",
   "execution_count": null,
   "metadata": {
    "collapsed": true
   },
   "outputs": [],
   "source": []
  }
 ],
 "metadata": {
  "kernelspec": {
   "display_name": "Python 2",
   "language": "python2",
   "name": "python2"
  },
  "language_info": {
   "codemirror_mode": {
    "name": "ipython",
    "version": 2
   },
   "file_extension": ".py",
   "mimetype": "text/x-python",
   "name": "python",
   "nbconvert_exporter": "python",
   "pygments_lexer": "ipython2",
   "version": "2.7.11"
  }
 },
 "nbformat": 4,
 "nbformat_minor": 0
}
